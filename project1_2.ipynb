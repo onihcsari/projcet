{
 "cells": [
  {
   "cell_type": "code",
   "execution_count": 1,
   "id": "53d4cdb8",
   "metadata": {},
   "outputs": [],
   "source": [
    "import torch\n",
    "import torch.nn as nn\n",
    "import torch.optim as optim\n",
    "from torch.utils.data import Dataset, DataLoader\n",
    "from sklearn.preprocessing import StandardScaler\n",
    "from sklearn.model_selection import train_test_split\n",
    "import pandas as pd\n",
    "import numpy as np"
   ]
  },
  {
   "cell_type": "code",
   "execution_count": 3,
   "id": "5e1add3b",
   "metadata": {},
   "outputs": [],
   "source": [
    "merged_data = pd.read_csv(\"data_file.csv\")"
   ]
  },
  {
   "cell_type": "code",
   "execution_count": 9,
   "id": "28cd38e8",
   "metadata": {},
   "outputs": [],
   "source": [
    "# 데이터를 학습, 검증, 테스트 데이터셋으로 분할합니다.\n",
    "scaler = StandardScaler()\n",
    "data_scaled = scaler.fit_transform(merged_data.drop(columns=['연도', '일시', '측정소']))\n",
    "\n",
    "# 데이터를 학습, 검증, 테스트 데이터셋으로 분할합니다.\n",
    "train_data, test_data = train_test_split(data_scaled, test_size=0.2, random_state=42)\n",
    "train_data, val_data = train_test_split(train_data, test_size=0.25, random_state=42)"
   ]
  },
  {
   "cell_type": "code",
   "execution_count": 10,
   "id": "a8af7e50",
   "metadata": {},
   "outputs": [],
   "source": [
    "class PM25Dataset(Dataset):\n",
    "    def __init__(self, data, target_col_index):\n",
    "        self.data = data\n",
    "        self.target_col_index = target_col_index\n",
    "\n",
    "    def __len__(self):\n",
    "        return len(self.data)\n",
    "\n",
    "    def __getitem__(self, idx):\n",
    "        x = np.delete(self.data[idx], self.target_col_index, axis=0)\n",
    "        y = self.data[idx][self.target_col_index]\n",
    "        return torch.tensor(x, dtype=torch.float32), torch.tensor(y, dtype=torch.float32)\n",
    "\n",
    "# PM2.5 값을 포함하는 열의 인덱스를 설정합니다. 이 값은 데이터셋에 따라 변경됩니다.\n",
    "target_col_index = 2\n",
    "\n",
    "train_dataset = PM25Dataset(train_data, target_col_index)\n",
    "val_dataset = PM25Dataset(val_data, target_col_index)\n",
    "test_dataset = PM25Dataset(test_data, target_col_index)\n",
    "\n",
    "train_loader = DataLoader(train_dataset, batch_size=32, shuffle=True)\n",
    "val_loader = DataLoader(val_dataset, batch_size=32, shuffle=False)\n",
    "test_loader = DataLoader(test_dataset, batch_size=32, shuffle=False)"
   ]
  },
  {
   "cell_type": "code",
   "execution_count": 11,
   "id": "85d7d723",
   "metadata": {},
   "outputs": [],
   "source": [
    "class PM25Predictor(nn.Module):\n",
    "    def __init__(self, input_size, hidden_size, output_size):\n",
    "        super(PM25Predictor, self).__init__()\n",
    "        self.fc1 = nn.Linear(input_size, hidden_size)\n",
    "        self.fc2 = nn.Linear(hidden_size, output_size)\n",
    "\n",
    "    def forward(self, x):\n",
    "        x = torch.relu(self.fc1(x))\n",
    "        x = self.fc2(x)\n",
    "        return x\n",
    "\n",
    "input_size = train_data.shape[1] - 1\n",
    "hidden_size = 64\n",
    "output_size = 1\n",
    "\n",
    "model = PM25Predictor(input_size, hidden_size, output_size)"
   ]
  },
  {
   "cell_type": "code",
   "execution_count": 12,
   "id": "f42b52fa",
   "metadata": {},
   "outputs": [],
   "source": [
    "def train_model(model, criterion, optimizer, train_loader, val_loader, n_epochs):\n",
    "    for epoch in range(n_epochs):\n",
    "        model.train()\n",
    "        train_loss = 0.0\n",
    "        for x, y in train_loader:\n",
    "            optimizer.zero_grad()\n",
    "            y_pred = model(x)\n",
    "            loss = criterion(y_pred, y.unsqueeze(1))\n",
    "            loss.backward()\n",
    "            optimizer.step()\n",
    "            train_loss += loss.item()\n",
    "            train_loss /= len(train_loader)\n",
    "        \n",
    "        model.eval()\n",
    "        val_loss = 0.0\n",
    "        with torch.no_grad():\n",
    "            for x, y in val_loader:\n",
    "                y_pred = model(x)\n",
    "                loss = criterion(y_pred, y.unsqueeze(1))\n",
    "                val_loss += loss.item()\n",
    "            val_loss /= len(val_loader)\n",
    "        \n",
    "        print(f'Epoch {epoch+1}/{n_epochs}, Train Loss: {train_loss:.4f}, Val Loss: {val_loss:.4f}')"
   ]
  },
  {
   "cell_type": "code",
   "execution_count": 13,
   "id": "369d5984",
   "metadata": {},
   "outputs": [],
   "source": [
    "criterion = nn.MSELoss()\n",
    "optimizer = optim.Adam(model.parameters(), lr=0.001)\n",
    "n_epochs = 50"
   ]
  },
  {
   "cell_type": "code",
   "execution_count": 14,
   "id": "09a46de4",
   "metadata": {},
   "outputs": [
    {
     "name": "stdout",
     "output_type": "stream",
     "text": [
      "Epoch 1/50, Train Loss: 0.0027, Val Loss: 0.7997\n",
      "Epoch 2/50, Train Loss: 0.0014, Val Loss: 0.7793\n",
      "Epoch 3/50, Train Loss: 0.0018, Val Loss: 0.7688\n",
      "Epoch 4/50, Train Loss: 0.0008, Val Loss: 0.7599\n",
      "Epoch 5/50, Train Loss: 0.0016, Val Loss: 0.7554\n",
      "Epoch 6/50, Train Loss: 0.0010, Val Loss: 0.7577\n",
      "Epoch 7/50, Train Loss: 0.0017, Val Loss: 0.7442\n",
      "Epoch 8/50, Train Loss: 0.0014, Val Loss: 0.7394\n",
      "Epoch 9/50, Train Loss: 0.0012, Val Loss: 0.7320\n",
      "Epoch 10/50, Train Loss: 0.0024, Val Loss: 0.7293\n",
      "Epoch 11/50, Train Loss: 0.0012, Val Loss: 0.7282\n",
      "Epoch 12/50, Train Loss: 0.0011, Val Loss: 0.7209\n",
      "Epoch 13/50, Train Loss: 0.0025, Val Loss: 0.7255\n",
      "Epoch 14/50, Train Loss: 0.0006, Val Loss: 0.7155\n",
      "Epoch 15/50, Train Loss: 0.0019, Val Loss: 0.7172\n",
      "Epoch 16/50, Train Loss: 0.0017, Val Loss: 0.7138\n",
      "Epoch 17/50, Train Loss: 0.0013, Val Loss: 0.7180\n",
      "Epoch 18/50, Train Loss: 0.0011, Val Loss: 0.7105\n",
      "Epoch 19/50, Train Loss: 0.0005, Val Loss: 0.7086\n",
      "Epoch 20/50, Train Loss: 0.0010, Val Loss: 0.7113\n",
      "Epoch 21/50, Train Loss: 0.0015, Val Loss: 0.7176\n",
      "Epoch 22/50, Train Loss: 0.0013, Val Loss: 0.7081\n",
      "Epoch 23/50, Train Loss: 0.0006, Val Loss: 0.7086\n",
      "Epoch 24/50, Train Loss: 0.0011, Val Loss: 0.7088\n",
      "Epoch 25/50, Train Loss: 0.0012, Val Loss: 0.7024\n",
      "Epoch 26/50, Train Loss: 0.0017, Val Loss: 0.7046\n",
      "Epoch 27/50, Train Loss: 0.0012, Val Loss: 0.7024\n",
      "Epoch 28/50, Train Loss: 0.0010, Val Loss: 0.7014\n",
      "Epoch 29/50, Train Loss: 0.0010, Val Loss: 0.7034\n",
      "Epoch 30/50, Train Loss: 0.0013, Val Loss: 0.6999\n",
      "Epoch 31/50, Train Loss: 0.0010, Val Loss: 0.7051\n",
      "Epoch 32/50, Train Loss: 0.0012, Val Loss: 0.6983\n",
      "Epoch 33/50, Train Loss: 0.0012, Val Loss: 0.7027\n",
      "Epoch 34/50, Train Loss: 0.0019, Val Loss: 0.6985\n",
      "Epoch 35/50, Train Loss: 0.0023, Val Loss: 0.7043\n",
      "Epoch 36/50, Train Loss: 0.0006, Val Loss: 0.7006\n",
      "Epoch 37/50, Train Loss: 0.0016, Val Loss: 0.7014\n",
      "Epoch 38/50, Train Loss: 0.0016, Val Loss: 0.6992\n",
      "Epoch 39/50, Train Loss: 0.0008, Val Loss: 0.6948\n",
      "Epoch 40/50, Train Loss: 0.0015, Val Loss: 0.6962\n",
      "Epoch 41/50, Train Loss: 0.0013, Val Loss: 0.6965\n",
      "Epoch 42/50, Train Loss: 0.0017, Val Loss: 0.6963\n",
      "Epoch 43/50, Train Loss: 0.0006, Val Loss: 0.6978\n",
      "Epoch 44/50, Train Loss: 0.0014, Val Loss: 0.6943\n",
      "Epoch 45/50, Train Loss: 0.0012, Val Loss: 0.6952\n",
      "Epoch 46/50, Train Loss: 0.0016, Val Loss: 0.6939\n",
      "Epoch 47/50, Train Loss: 0.0006, Val Loss: 0.6893\n",
      "Epoch 48/50, Train Loss: 0.0008, Val Loss: 0.6915\n",
      "Epoch 49/50, Train Loss: 0.0011, Val Loss: 0.6885\n",
      "Epoch 50/50, Train Loss: 0.0014, Val Loss: 0.6987\n"
     ]
    }
   ],
   "source": [
    "train_model(model, criterion, optimizer, train_loader, val_loader, n_epochs)\n"
   ]
  },
  {
   "cell_type": "code",
   "execution_count": 15,
   "id": "bdb1f700",
   "metadata": {},
   "outputs": [
    {
     "name": "stdout",
     "output_type": "stream",
     "text": [
      "Test Loss: 0.7185\n"
     ]
    }
   ],
   "source": [
    "model.eval()\n",
    "test_loss = 0.0\n",
    "with torch.no_grad():\n",
    "    for x, y in test_loader:\n",
    "        y_pred = model(x)\n",
    "        loss = criterion(y_pred, y.unsqueeze(1))\n",
    "        test_loss += loss.item()\n",
    "    test_loss /= len(test_loader)\n",
    "\n",
    "print(f'Test Loss: {test_loss:.4f}')"
   ]
  },
  {
   "cell_type": "code",
   "execution_count": null,
   "id": "03342de5",
   "metadata": {},
   "outputs": [],
   "source": []
  }
 ],
 "metadata": {
  "kernelspec": {
   "display_name": "Python 3 (ipykernel)",
   "language": "python",
   "name": "python3"
  },
  "language_info": {
   "codemirror_mode": {
    "name": "ipython",
    "version": 3
   },
   "file_extension": ".py",
   "mimetype": "text/x-python",
   "name": "python",
   "nbconvert_exporter": "python",
   "pygments_lexer": "ipython3",
   "version": "3.9.13"
  }
 },
 "nbformat": 4,
 "nbformat_minor": 5
}
