{
 "cells": [
  {
   "cell_type": "code",
   "execution_count": 29,
   "id": "5d1072fe",
   "metadata": {},
   "outputs": [],
   "source": [
    "import pandas as pd"
   ]
  },
  {
   "cell_type": "code",
   "execution_count": 2,
   "id": "65354b06",
   "metadata": {},
   "outputs": [],
   "source": [
    "pm25_files = ['TEST_INPUT/논산.csv', 'TEST_INPUT/정림동.csv', 'TEST_INPUT/신흥동.csv', 'TEST_INPUT/아름동.csv', \n",
    "              'TEST_INPUT/공주.csv', 'TEST_INPUT/대천2동.csv', 'TEST_INPUT/홍성읍.csv', 'TEST_INPUT/독곶리.csv', 'TEST_INPUT/성성동.csv']\n",
    "aws_files = ['TEST_AWS/논산.csv', 'TEST_AWS/오월드.csv', 'TEST_AWS/세종연서.csv', 'TEST_AWS/세종고운.csv', 'TEST_AWS/공주.csv', \n",
    "             'TEST_AWS/대천항.csv', 'TEST_AWS/홍북.csv', 'TEST_AWS/대산.csv', 'TEST_AWS/성거.csv']"
   ]
  },
  {
   "cell_type": "code",
   "execution_count": 10,
   "id": "b10ac708",
   "metadata": {},
   "outputs": [],
   "source": [
    "name_mapping = {\n",
    "    '논산': '논산',\n",
    "    '오월드': '정림동',\n",
    "    '세종연서': '신흥동',\n",
    "    '세종고운': '아름동',\n",
    "    '공주': '공주',\n",
    "    '대천항': '대천2동',\n",
    "    '홍북': '홍성읍',\n",
    "    '대산': '독곶리',\n",
    "    '성거': '성성동',\n",
    "}"
   ]
  },
  {
   "cell_type": "code",
   "execution_count": 14,
   "id": "71b20ba3",
   "metadata": {},
   "outputs": [],
   "source": [
    "pm25_dfs = []\n",
    "aws_dfs = []\n",
    "\n",
    "for file in pm25_files:\n",
    "    pm25_data = pd.read_csv(file)\n",
    "    pm25_dfs.append(pm25_data)\n",
    "    \n",
    "for file in aws_files:\n",
    "    aws_data = pd.read_csv(file)\n",
    "    aws_data = aws_data.rename(columns={'지점': '측정소'})\n",
    "    aws_data['측정소'] = aws_data['측정소'].map(name_mapping)\n",
    "    aws_dfs.append(aws_data)"
   ]
  },
  {
   "cell_type": "code",
   "execution_count": 19,
   "id": "075972a7",
   "metadata": {},
   "outputs": [],
   "source": [
    "all_pm25_data = pd.concat(pm25_dfs, ignore_index=True)\n",
    "all_aws_data = pd.concat(aws_dfs, ignore_index=True)"
   ]
  },
  {
   "cell_type": "code",
   "execution_count": 20,
   "id": "899f0ce1",
   "metadata": {},
   "outputs": [],
   "source": [
    "merged_data = pd.merge(all_pm25_data, all_aws_data, on=['연도', '일시', '측정소'])"
   ]
  },
  {
   "cell_type": "code",
   "execution_count": 24,
   "id": "38726e87",
   "metadata": {},
   "outputs": [],
   "source": [
    "merged_data.to_csv(\"data_file.csv)"
   ]
  }
 ],
 "metadata": {
  "kernelspec": {
   "display_name": "Python 3 (ipykernel)",
   "language": "python",
   "name": "python3"
  },
  "language_info": {
   "codemirror_mode": {
    "name": "ipython",
    "version": 3
   },
   "file_extension": ".py",
   "mimetype": "text/x-python",
   "name": "python",
   "nbconvert_exporter": "python",
   "pygments_lexer": "ipython3",
   "version": "3.9.13"
  }
 },
 "nbformat": 4,
 "nbformat_minor": 5
}
